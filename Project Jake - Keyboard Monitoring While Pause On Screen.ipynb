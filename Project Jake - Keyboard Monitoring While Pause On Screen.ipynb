{
 "cells": [
  {
   "cell_type": "code",
   "execution_count": 1,
   "id": "1f19fe10",
   "metadata": {},
   "outputs": [],
   "source": [
    "from pynput import keyboard\n",
    "import pyautogui\n",
    "import threading"
   ]
  },
  {
   "cell_type": "code",
   "execution_count": 2,
   "id": "7b094e34",
   "metadata": {},
   "outputs": [],
   "source": [
    "import warnings\n",
    "warnings.filterwarnings('ignore')"
   ]
  },
  {
   "cell_type": "code",
   "execution_count": 3,
   "id": "c0ba3b5f",
   "metadata": {},
   "outputs": [],
   "source": [
    "PauseButton = 'PauseButton.png'\n",
    "\n",
    "global continue_listening \n",
    "global end_program "
   ]
  },
  {
   "cell_type": "code",
   "execution_count": 4,
   "id": "c53700b5",
   "metadata": {},
   "outputs": [],
   "source": [
    "def listen_for_keys():\n",
    "    \n",
    "    with keyboard.Listener(on_press=on_press) as listener:\n",
    "        listener.join()\n",
    "    \n",
    "def on_press(key):\n",
    "    \n",
    "    if continue_listening == False:\n",
    "        return\n",
    "        \n",
    "    if key == keyboard.Key.esc:\n",
    "        print(\"Escape key pressed. Stopping program.\")\n",
    "        stop_program()\n",
    "\n",
    "    try:\n",
    "        print('{0}'.format(key.char))\n",
    "    except AttributeError:\n",
    "        print('{0}'.format(key))\n",
    "        \n"
   ]
  },
  {
   "cell_type": "code",
   "execution_count": 5,
   "id": "4cf6af08",
   "metadata": {},
   "outputs": [],
   "source": [
    "def run_program():\n",
    "    \n",
    "    global continue_listening\n",
    "    \n",
    "    key_listener_thread = threading.Thread(target=listen_for_keys)\n",
    "    key_listener_thread.start()\n",
    "    \n",
    "    while end_program == False:\n",
    "\n",
    "        try:\n",
    "            image_location = pyautogui.locateOnScreen(PauseButton)\n",
    "            continue_listening = True\n",
    "        except pyautogui.ImageNotFoundException:\n",
    "            image_location = None\n",
    "            stop_listener() \n",
    "            print(\"Pause button not found. Get yo ass back on the game!\")"
   ]
  },
  {
   "cell_type": "code",
   "execution_count": 6,
   "id": "c6523c7a",
   "metadata": {},
   "outputs": [],
   "source": [
    "def stop_listener():\n",
    "    global continue_listening\n",
    "    continue_listening = False"
   ]
  },
  {
   "cell_type": "code",
   "execution_count": 7,
   "id": "fdc3c395",
   "metadata": {},
   "outputs": [],
   "source": [
    "def stop_program():\n",
    "    global continue_listening\n",
    "    global end_program\n",
    "    continue_listening = False\n",
    "    end_program = True"
   ]
  },
  {
   "cell_type": "code",
   "execution_count": null,
   "id": "a626303c",
   "metadata": {},
   "outputs": [],
   "source": []
  },
  {
   "cell_type": "code",
   "execution_count": null,
   "id": "baa8822e",
   "metadata": {
    "scrolled": false
   },
   "outputs": [],
   "source": [
    "continue_listening = False\n",
    "end_program = False\n",
    "\n",
    "run_program()"
   ]
  }
 ],
 "metadata": {
  "kernelspec": {
   "display_name": "Python 3 (ipykernel)",
   "language": "python",
   "name": "python3"
  },
  "language_info": {
   "codemirror_mode": {
    "name": "ipython",
    "version": 3
   },
   "file_extension": ".py",
   "mimetype": "text/x-python",
   "name": "python",
   "nbconvert_exporter": "python",
   "pygments_lexer": "ipython3",
   "version": "3.9.7"
  }
 },
 "nbformat": 4,
 "nbformat_minor": 5
}
