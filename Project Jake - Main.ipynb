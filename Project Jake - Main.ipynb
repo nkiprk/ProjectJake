{
 "cells": [
  {
   "cell_type": "code",
   "execution_count": null,
   "id": "1f19fe10",
   "metadata": {},
   "outputs": [],
   "source": [
    "from pynput import keyboard\n",
    "import pyautogui\n",
    "import threading\n",
    "import time"
   ]
  },
  {
   "cell_type": "code",
   "execution_count": null,
   "id": "7b094e34",
   "metadata": {},
   "outputs": [],
   "source": [
    "import warnings\n",
    "warnings.filterwarnings('ignore')"
   ]
  },
  {
   "cell_type": "code",
   "execution_count": null,
   "id": "c0ba3b5f",
   "metadata": {},
   "outputs": [],
   "source": [
    "PauseButton = 'PauseButton.png'\n",
    "\n",
    "global continue_listening \n",
    "global end_program "
   ]
  },
  {
   "cell_type": "code",
   "execution_count": null,
   "id": "c53700b5",
   "metadata": {},
   "outputs": [],
   "source": [
    "def listen_for_keys():\n",
    "    \n",
    "    with keyboard.Listener(on_press=on_press) as listener:\n",
    "        listener.join()\n",
    "\n",
    "def take_screenshot(file_name):\n",
    "    \n",
    "    while live:\n",
    "        screenshot = pyautogui.screenshot()\n",
    "        \n",
    "        # RESIZING WOULD GO HERE\n",
    "        \n",
    "        timestamp = int(time.time())\n",
    "        filename = f\"screenshot_{timestamp}.png\"\n",
    "        screenshot.save(file_name)        \n",
    "        \n",
    "def on_press(key):\n",
    "\n",
    "# For printing individual key presses\n",
    "    try:\n",
    "        print('{0}'.format(key.char))\n",
    "    except AttributeError:\n",
    "        print('{0}'.format(key))\n",
    "    \n",
    "    if continue_listening == False:\n",
    "        return \n",
    "    if key == keyboard.Key.shift:\n",
    "        print(\"Shift key pressed. Stopping program.\")\n",
    "        stop_program()   \n",
    "    \n",
    "# For screenshotting\n",
    "#         print(\"Press 'caps lock' to start capturing frames. Press it again to quit.\")\n",
    "#     while True:\n",
    "#         if key == keyboard.Key.caps_lock:\n",
    "#             print(\"Capturing frames...\")\n",
    "#             while True:\n",
    "#                 # Check for key presses (jump, roll, move left, move right, no move)\n",
    "#                 if key == keyboard.Key.up:\n",
    "#                     take_screenshot('Jump')\n",
    "#                 elif key == keyboard.Key.down:\n",
    "#                     take_screenshot('Roll')\n",
    "#                 elif key == keyboard.Key.left:\n",
    "#                     take_screenshot('Left')\n",
    "#                 elif key == keyboard.Key.right:\n",
    "#                     take_screenshot('Right')\n",
    "#                 else:\n",
    "#                     take_screenshot('No Movement')\n",
    "#                 time.sleep(0.1)  # Adjust the sleep time based on the game's frame rate\n",
    "#                 # Break the loop if 'capslock' is pressed to stop capturing frames\n",
    "#                 if key == keyboard.Key.capslock:\n",
    "#                     print(\"No longer capturing frames...\")\n",
    "#                     break\n",
    "#         time.sleep(0.1)\n",
    "\n",
    "\n",
    "        \n"
   ]
  },
  {
   "cell_type": "code",
   "execution_count": null,
   "id": "4cf6af08",
   "metadata": {},
   "outputs": [],
   "source": [
    "def run_program():\n",
    "    \n",
    "    global continue_listening\n",
    "    \n",
    "    key_listener_thread = threading.Thread(target=listen_for_keys)\n",
    "    key_listener_thread.start()\n",
    "    \n",
    "    while end_program == False:\n",
    "\n",
    "        try:\n",
    "            image_location = pyautogui.locateOnScreen(PauseButton)\n",
    "            continue_listening = True\n",
    "        except pyautogui.ImageNotFoundException:\n",
    "            image_location = None\n",
    "            stop_listener() \n",
    "            print(\"Pause button not found. Get yo ass back on the game!\")"
   ]
  },
  {
   "cell_type": "code",
   "execution_count": null,
   "id": "c6523c7a",
   "metadata": {},
   "outputs": [],
   "source": [
    "def stop_listener():\n",
    "    global continue_listening\n",
    "    continue_listening = False"
   ]
  },
  {
   "cell_type": "code",
   "execution_count": null,
   "id": "fdc3c395",
   "metadata": {},
   "outputs": [],
   "source": [
    "def stop_program():\n",
    "    global continue_listening\n",
    "    global end_program\n",
    "    continue_listening = False\n",
    "    end_program = True"
   ]
  },
  {
   "cell_type": "code",
   "execution_count": null,
   "id": "a626303c",
   "metadata": {},
   "outputs": [],
   "source": []
  },
  {
   "cell_type": "code",
   "execution_count": null,
   "id": "30111b13",
   "metadata": {},
   "outputs": [],
   "source": []
  },
  {
   "cell_type": "code",
   "execution_count": null,
   "id": "baa8822e",
   "metadata": {
    "scrolled": true
   },
   "outputs": [],
   "source": [
    "continue_listening = False\n",
    "end_program = False\n",
    "\n",
    "run_program()"
   ]
  },
  {
   "cell_type": "code",
   "execution_count": null,
   "id": "a38b95c2",
   "metadata": {},
   "outputs": [],
   "source": []
  },
  {
   "cell_type": "code",
   "execution_count": null,
   "id": "27f821fa",
   "metadata": {},
   "outputs": [],
   "source": []
  },
  {
   "cell_type": "code",
   "execution_count": null,
   "id": "94b98d74",
   "metadata": {},
   "outputs": [],
   "source": []
  },
  {
   "cell_type": "code",
   "execution_count": null,
   "id": "325706d6",
   "metadata": {},
   "outputs": [],
   "source": []
  },
  {
   "cell_type": "code",
   "execution_count": null,
   "id": "9a022e8d",
   "metadata": {},
   "outputs": [],
   "source": []
  },
  {
   "cell_type": "code",
   "execution_count": null,
   "id": "de683377",
   "metadata": {},
   "outputs": [],
   "source": []
  }
 ],
 "metadata": {
  "kernelspec": {
   "display_name": "Python 3 (ipykernel)",
   "language": "python",
   "name": "python3"
  },
  "language_info": {
   "codemirror_mode": {
    "name": "ipython",
    "version": 3
   },
   "file_extension": ".py",
   "mimetype": "text/x-python",
   "name": "python",
   "nbconvert_exporter": "python",
   "pygments_lexer": "ipython3",
   "version": "3.9.7"
  }
 },
 "nbformat": 4,
 "nbformat_minor": 5
}
